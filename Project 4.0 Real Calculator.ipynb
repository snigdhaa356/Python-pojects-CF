{
 "cells": [
  {
   "cell_type": "code",
   "execution_count": 4,
   "id": "741ce60c",
   "metadata": {},
   "outputs": [
    {
     "name": "stdout",
     "output_type": "stream",
     "text": [
      "Enter equation:23 + 12\n",
      "Sum of 23 and 12 is 35\n"
     ]
    }
   ],
   "source": [
    "def add(a,b):\n",
    "    addition = a+b\n",
    "    print(f\"Sum of {a} and {b} is {addition}\")\n",
    "def subtract(a,b):\n",
    "    subtraction = a-b\n",
    "    print(f\"Subtracting {b} from {a} is {subtraction}\")\n",
    "def multiply(a,b):\n",
    "    multiplication = a*b\n",
    "    print(f\"Multiplication of {a} and {b} is {multiplication}\")\n",
    "def div(a,b):\n",
    "    divide = a/b\n",
    "    print(f\"Division of {a} and {b} is {divide}\")\n",
    "\n",
    "number1,operator,number2 = map(str,input(\"Enter equation:\").split())\n",
    "number1 = int(number1)\n",
    "number2 = int(number2)\n",
    "\n",
    "if operator == \"+\":\n",
    "    add(number1,number2)\n",
    "elif operator == \"-\":\n",
    "    subtract(number1,number2)\n",
    "elif operator == \"*\":\n",
    "    multiply(number1,number2)\n",
    "elif operator == \"/\":\n",
    "    division(number1,number2)\n",
    "else:\n",
    "    print (\"Error entry: Type something like 2 + 5\")"
   ]
  },
  {
   "cell_type": "code",
   "execution_count": null,
   "id": "e9a5ca86",
   "metadata": {},
   "outputs": [],
   "source": []
  }
 ],
 "metadata": {
  "kernelspec": {
   "display_name": "Python 3 (ipykernel)",
   "language": "python",
   "name": "python3"
  },
  "language_info": {
   "codemirror_mode": {
    "name": "ipython",
    "version": 3
   },
   "file_extension": ".py",
   "mimetype": "text/x-python",
   "name": "python",
   "nbconvert_exporter": "python",
   "pygments_lexer": "ipython3",
   "version": "3.9.7"
  }
 },
 "nbformat": 4,
 "nbformat_minor": 5
}

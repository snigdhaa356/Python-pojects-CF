{
 "cells": [
  {
   "cell_type": "code",
   "execution_count": 1,
   "id": "c75b6278",
   "metadata": {},
   "outputs": [
    {
     "name": "stdout",
     "output_type": "stream",
     "text": [
      "\t Student Portfolio\n",
      "Name: Rohan Gupta\n",
      "Std: 9\n",
      "Division: A\n",
      "RollNo: 19\n",
      "Maths: 80.6\n",
      "Physics: 82\n",
      "Chemistry: 79.8\n"
     ]
    }
   ],
   "source": [
    "print (\"\\t Student Portfolio\")\n",
    "Name = str(input(\"Name: \"))\n",
    "Std = int(input(\"Std: \"))\n",
    "Division = str(input(\"Division: \"))\n",
    "RollNo = int(input(\"RollNo: \"))\n",
    "PercentMarks = float(input(\"Maths: \"))\n",
    "PercentMarks = float(input(\"Physics: \"))\n",
    "PercentMarks = float(input(\"Chemistry: \"))\n"
   ]
  },
  {
   "cell_type": "code",
   "execution_count": null,
   "id": "ddf18642",
   "metadata": {},
   "outputs": [],
   "source": []
  }
 ],
 "metadata": {
  "kernelspec": {
   "display_name": "Python 3 (ipykernel)",
   "language": "python",
   "name": "python3"
  },
  "language_info": {
   "codemirror_mode": {
    "name": "ipython",
    "version": 3
   },
   "file_extension": ".py",
   "mimetype": "text/x-python",
   "name": "python",
   "nbconvert_exporter": "python",
   "pygments_lexer": "ipython3",
   "version": "3.9.7"
  }
 },
 "nbformat": 4,
 "nbformat_minor": 5
}

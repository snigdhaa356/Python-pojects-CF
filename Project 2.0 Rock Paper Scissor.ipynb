{
 "cells": [
  {
   "cell_type": "code",
   "execution_count": 3,
   "id": "6c569b66",
   "metadata": {},
   "outputs": [
    {
     "name": "stdout",
     "output_type": "stream",
     "text": [
      "We will play rock, paper, scissors with 2 players\n",
      "Select between rock, paper or scissor \n",
      "paper\n",
      "Select between rock, paper or scissor \n",
      "scissor\n",
      "Player1 chose paper and Player2 chose scissor\n",
      "Player2 won\n"
     ]
    }
   ],
   "source": [
    "print (\"We will play rock, paper, scissors with 2 players\")\n",
    "Player1 = str(input(\"Select between rock, paper or scissor \\n\"))\n",
    "Player2 = str(input(\"Select between rock, paper or scissor \\n\"))\n",
    "\n",
    "if (Player1=='rock') and (Player2=='rock'):\n",
    "    print(\"Player1 chose {option1} and Player2 chose {option2}\".format(option1=Player1,option2=Player2))\n",
    "    print(\"It's a tie\")\n",
    "elif (Player1=='rock') and (Player2=='paper'):\n",
    "    print(\"Player1 chose {option1} and Player2 chose {option2}\".format(option1=Player1,option2=Player2))\n",
    "    print(\"Player2 won\")\n",
    "elif (Player1=='rock') and (Player2=='scissor'):\n",
    "    print(\"Player1 chose {option1} and Player2 chose {option2}\".format(option1=Player1,option2=Player2))\n",
    "    print(\"Player1 won\")\n",
    "elif (Player1=='paper') and (Player2=='rock'):\n",
    "    print(\"Player1 chose {option1} and Player2 chose {option2}\".format(option1=Player1,option2=Player2))\n",
    "    print(\"Player1 won\")\n",
    "elif (Player1=='paper') and (Player2=='paper'):\n",
    "    print(\"Player1 chose {option1} and Player2 chose {option2}\".format(option1=Player1,option2=Player2))\n",
    "    print(\"It's a tie\")\n",
    "elif (Player1=='paper') and (Player2=='scissor'):\n",
    "    print(\"Player1 chose {option1} and Player2 chose {option2}\".format(option1=Player1,option2=Player2))\n",
    "    print(\"Player2 won\")\n",
    "elif (Player1=='scissor') and (Player2=='rock'):\n",
    "    print(\"Player1 chose {option1} and Player2 chose {option2}\".format(option1=Player1,option2=Player2))\n",
    "    print(\"Player2 won\")\n",
    "elif (Player1=='scissor') and (Player2=='paper'):\n",
    "    print(\"Player1 chose {option1} and Player2 chose {option2}\".format(option1=Player1,option2=Player2))\n",
    "    print(\"Player1 won\")\n",
    "elif (Player1=='scissor') and (Player2=='scissor'):\n",
    "    print(\"Player1 chose {option1} and Player2 chose {option2}\".format(option1=Player1,option2=Player2))\n",
    "    print(\"It's a tie\")\n"
   ]
  },
  {
   "cell_type": "code",
   "execution_count": null,
   "id": "4e1e6dfa",
   "metadata": {},
   "outputs": [],
   "source": []
  }
 ],
 "metadata": {
  "kernelspec": {
   "display_name": "Python 3 (ipykernel)",
   "language": "python",
   "name": "python3"
  },
  "language_info": {
   "codemirror_mode": {
    "name": "ipython",
    "version": 3
   },
   "file_extension": ".py",
   "mimetype": "text/x-python",
   "name": "python",
   "nbconvert_exporter": "python",
   "pygments_lexer": "ipython3",
   "version": "3.9.7"
  }
 },
 "nbformat": 4,
 "nbformat_minor": 5
}

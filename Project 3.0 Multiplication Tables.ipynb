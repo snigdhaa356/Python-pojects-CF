{
 "cells": [
  {
   "cell_type": "code",
   "execution_count": 1,
   "id": "b7f55f18",
   "metadata": {},
   "outputs": [
    {
     "name": "stdout",
     "output_type": "stream",
     "text": [
      "Multiplication Tables\n",
      "Enter the number \n",
      "7\n",
      "7 * 1 = 7\n",
      "7 * 2 = 14\n",
      "7 * 3 = 21\n",
      "7 * 4 = 28\n",
      "7 * 5 = 35\n",
      "7 * 6 = 42\n",
      "7 * 7 = 49\n",
      "7 * 8 = 56\n",
      "7 * 9 = 63\n",
      "7 * 10 = 70\n",
      "7 * 11 = 77\n",
      "7 * 12 = 84\n"
     ]
    }
   ],
   "source": [
    "print (\"Multiplication Tables\")\n",
    "usernum = int(input(\"Enter the number \\n\"))\n",
    "multiple = 1\n",
    "while (multiple<=12):\n",
    "    print (usernum, \"*\", multiple, \"=\",usernum * multiple)\n",
    "    multiple = multiple + 1"
   ]
  },
  {
   "cell_type": "code",
   "execution_count": null,
   "id": "732997ab",
   "metadata": {},
   "outputs": [],
   "source": []
  }
 ],
 "metadata": {
  "kernelspec": {
   "display_name": "Python 3 (ipykernel)",
   "language": "python",
   "name": "python3"
  },
  "language_info": {
   "codemirror_mode": {
    "name": "ipython",
    "version": 3
   },
   "file_extension": ".py",
   "mimetype": "text/x-python",
   "name": "python",
   "nbconvert_exporter": "python",
   "pygments_lexer": "ipython3",
   "version": "3.9.7"
  }
 },
 "nbformat": 4,
 "nbformat_minor": 5
}
